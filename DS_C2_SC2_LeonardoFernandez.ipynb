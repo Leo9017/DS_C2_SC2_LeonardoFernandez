{
  "nbformat": 4,
  "nbformat_minor": 0,
  "metadata": {
    "colab": {
      "name": "DS_C2_SC2_LeonardoFernandez.ipynb",
      "provenance": []
    },
    "kernelspec": {
      "name": "python3",
      "display_name": "Python 3"
    },
    "language_info": {
      "name": "python"
    }
  },
  "cells": [
    {
      "cell_type": "code",
      "execution_count": 23,
      "metadata": {
        "colab": {
          "base_uri": "https://localhost:8080/"
        },
        "id": "l0OQhaPFTfZK",
        "outputId": "e53a6549-5ebf-4da4-8543-8687ba670155"
      },
      "outputs": [
        {
          "output_type": "stream",
          "name": "stdout",
          "text": [
            "Mounted at /content/drive\n",
            "<class 'pandas.core.frame.DataFrame'>\n",
            "RangeIndex: 86512 entries, 0 to 86511\n",
            "Data columns (total 15 columns):\n",
            " #   Column                               Non-Null Count  Dtype         \n",
            "---  ------                               --------------  -----         \n",
            " 0   country                              86512 non-null  object        \n",
            " 1   iso_code                             86512 non-null  object        \n",
            " 2   date                                 86512 non-null  datetime64[ns]\n",
            " 3   total_vaccinations                   43607 non-null  float64       \n",
            " 4   people_vaccinated                    41294 non-null  float64       \n",
            " 5   people_fully_vaccinated              38802 non-null  float64       \n",
            " 6   daily_vaccinations_raw               35362 non-null  float64       \n",
            " 7   daily_vaccinations                   86213 non-null  float64       \n",
            " 8   total_vaccinations_per_hundred       43607 non-null  float64       \n",
            " 9   people_vaccinated_per_hundred        41294 non-null  float64       \n",
            " 10  people_fully_vaccinated_per_hundred  38802 non-null  float64       \n",
            " 11  daily_vaccinations_per_million       86213 non-null  float64       \n",
            " 12  vaccines                             86512 non-null  object        \n",
            " 13  source_name                          86512 non-null  object        \n",
            " 14  source_website                       86512 non-null  object        \n",
            "dtypes: datetime64[ns](1), float64(9), object(5)\n",
            "memory usage: 9.9+ MB\n",
            "Total vacunas aplicadas en todo el mundo: 11320239871.0\n",
            "Total vacunas aplicadas en todo el mundo el 29/01/21: 4884052.0\n",
            "Fecha más antigua: 2020-12-02\n",
            "Fecha más reciente: 2022-03-29\n",
            "(70, 15)\n"
          ]
        }
      ],
      "source": [
        "# Abrir archivo cvs para lectura\n",
        "#import csv\n",
        "from google.colab import drive\n",
        "import pandas as pd\n",
        "\n",
        "drive.mount('/content/drive', force_remount=True)\n",
        "\n",
        "path = '/content/drive/MyDrive/Colab Notebooks/Reto - Covid 19 Pandas Numpy/' # // Ruta del archivo\n",
        "df = pd.read_csv(path + 'country_vaccinations.csv') # // a. Extraer la información del archivo.\n",
        "# // b. Mostrar la estructura y tipos de datos de cada columna\n",
        "# Convertir fecha a datetime\n",
        "df['date'] = pd.to_datetime(df['date']) \n",
        "df.info()\n",
        "\n",
        "# // c. Determinar la cantidad de vacunas aplicadas de cada compañía\n",
        "df['CantidadVacunas'] = df['vaccines'].str.split(\",\").str.len()\n",
        "df[['country','CantidadVacunas']].groupby(\"country\").mean() \n",
        "\n",
        "# // d. Obtener la cantidad de vacunas aplicadas en todo el mundo.\n",
        "TotalVacunas = df['daily_vaccinations'].sum() \n",
        "print(\"Total vacunas aplicadas en todo el mundo: \" + str(TotalVacunas))\n",
        "\n",
        "# // e. Calcular el promedio de vacunas aplicadas por país.\n",
        "df[['country','daily_vaccinations']].groupby(\"country\").mean()  \n",
        "\n",
        "# // f. Determinar la cantidad de vacunas aplicadas el día 29/01/21 en todo el mundo.\n",
        "Vacunas290121= df['daily_vaccinations'].where(df['date']==\"29/01/2021\").sum()\n",
        "print(\"Total vacunas aplicadas en todo el mundo el 29/01/21: \" + str(Vacunas290121))\n",
        "\n",
        "# // g. Crear un dataframe nuevo denominado conDiferencias\n",
        "conDiferencias = pd.read_csv(path + 'country_vaccinations.csv')\n",
        "conDiferencias['Diferencias'] = conDiferencias['daily_vaccinations'] - conDiferencias['daily_vaccinations_raw']\n",
        "conDiferencias\n",
        "\n",
        "#h. Obtener el período de tiempo entre el registro con fecha más reciente y el registro con fecha más antigua. \n",
        "print(\"Fecha más antigua: \" + conDiferencias['date'].min())\n",
        "print(\"Fecha más reciente: \" + conDiferencias['date'].max())\n",
        "\n",
        "# // i. Crear un dataframe nuevo denominado conCantidad que contenga los datos originales y una columna derivada\n",
        "# (canVac) con la cantidad de vacunas utilizadas cada día (usar la columna vaccines y separar por el carácter /). \n",
        "conCantidad = pd.read_csv(path + 'country_vaccinations.csv')\n",
        "conCantidad['canVac'] = conCantidad['vaccines'].str.split(\"/\").str.len()\n",
        "\n",
        "\n",
        "# // j. Generar un dataframe denominado antes20 con todos los registros que se hayan realizado antes del 20 de diciembre de 2020. \n",
        "\n",
        "antes20 = pd.read_csv(path + 'country_vaccinations.csv')\n",
        "RegistrosAntes20 = antes20[antes20['date']<'2020-12-20']\n",
        "print(RegistrosAntes20.shape)\n",
        "RegistrosAntes20.head()\n",
        "\n",
        "# // k. Obtener un dataframe denominado pfizer con todos los registros donde se haya utilizado la vacuna Pfizer. \n",
        "pfizer_df = pd.read_csv(path + 'country_vaccinations.csv')\n",
        "pfizer = pfizer_df[pfizer_df['vaccines'].str.contains('pfizer', case=False)]\n",
        "\n",
        "\n",
        "# // l. Almacenar los dataframes generados (conDiferencias, conCantidad, antes20 y pfizer) en un archivo de Excel denominado resultadosReto.xlsx\n",
        "with pd.ExcelWriter(path + \"resultadoReto.xlsx\") as writer:\n",
        "    conDiferencias.to_excel(writer, sheet_name=\"conDiferencias\")  \n",
        "    conCantidad.to_excel(writer, sheet_name=\"conCantidad\")\n",
        "    RegistrosAntes20.to_excel(writer, sheet_name=\"antes20\")\n",
        "    pfizer.to_excel(writer, sheet_name=\"pfizer\")  \n"
      ]
    }
  ]
}